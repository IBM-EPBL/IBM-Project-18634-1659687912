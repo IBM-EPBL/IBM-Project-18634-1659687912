{
 "cells": [
  {
   "cell_type": "markdown",
   "id": "f140265c",
   "metadata": {
    "tags": []
   },
   "source": [
    "# Image Preprocessing"
   ]
  },
  {
   "cell_type": "markdown",
   "id": "2d7d12f8-1cfd-45fa-8fb7-4660eeebceef",
   "metadata": {},
   "source": [
    "Team ID : PNT2022TMID12370"
   ]
  },
  {
   "cell_type": "markdown",
   "id": "e4a5c6ac",
   "metadata": {
    "tags": []
   },
   "source": [
    "#  Import the library"
   ]
  },
  {
   "cell_type": "code",
   "execution_count": 3,
   "id": "1ef44e28",
   "metadata": {},
   "outputs": [],
   "source": [
    "from tensorflow.keras.preprocessing.image import ImageDataGenerator"
   ]
  },
  {
   "cell_type": "markdown",
   "id": "b6cc268c",
   "metadata": {
    "tags": []
   },
   "source": [
    "# Configure ImageDataGenerator Class "
   ]
  },
  {
   "cell_type": "code",
   "execution_count": 4,
   "id": "6a7c04c6",
   "metadata": {},
   "outputs": [],
   "source": [
    "#Setting parameter for Image Data augmentation to the training data\n",
    "train_datagen = ImageDataGenerator(rescale=1./255,shear_range=0.2,zoom_range=0.2,horizontal_flip=True)\n",
    "\n",
    "#Image Data augmentation to the testing data\n",
    "test_datagen = ImageDataGenerator(rescale=1./255)"
   ]
  },
  {
   "cell_type": "markdown",
   "id": "55920b42",
   "metadata": {},
   "source": [
    "# Apply Image DataGenerator Functionality To Trainset And Testset "
   ]
  },
  {
   "cell_type": "code",
   "execution_count": 5,
   "id": "98c68f8f",
   "metadata": {},
   "outputs": [
    {
     "name": "stdout",
     "output_type": "stream",
     "text": [
      "Found 8129 images belonging to 5 classes.\n",
      "Found 1060 images belonging to 5 classes.\n"
     ]
    }
   ],
   "source": [
    "#Performing data augmentation to train data\n",
    "x_train = train_datagen.flow_from_directory(r'D:\\Nutrition Analysis Using Image Classification\\Dataset\\TRAIN_SET',target_size=(64, 64),batch_size=5,color_mode='rgb',class_mode='sparse')\n",
    "\n",
    "#Performing data augmentation to test data\n",
    "x_test = test_datagen.flow_from_directory(r'D:\\Nutrition Analysis Using Image Classification\\Dataset\\TEST_SET',target_size=(64, 64),batch_size=5,color_mode='rgb',class_mode='sparse')"
   ]
  },
  {
   "cell_type": "code",
   "execution_count": 6,
   "id": "d4ab6c9d-fce2-47b1-912e-5680312c926e",
   "metadata": {},
   "outputs": [
    {
     "name": "stdout",
     "output_type": "stream",
     "text": [
      "{'APPLES': 0, 'BANANA': 1, 'ORANGE': 2, 'PINEAPPLE': 3, 'WATERMELON': 4}\n"
     ]
    }
   ],
   "source": [
    "#Checking the number of classes \n",
    "print(x_train.class_indices)"
   ]
  },
  {
   "cell_type": "code",
   "execution_count": 7,
   "id": "d9c57ef0-0995-4717-b631-c840a54dcdc5",
   "metadata": {},
   "outputs": [
    {
     "name": "stdout",
     "output_type": "stream",
     "text": [
      "{'APPLES': 0, 'BANANA': 1, 'ORANGE': 2, 'PINEAPPLE': 3, 'WATERMELON': 4}\n"
     ]
    }
   ],
   "source": [
    "#Checking the number of classes \n",
    "print(x_test.class_indices)"
   ]
  },
  {
   "cell_type": "code",
   "execution_count": 8,
   "id": "d73a4f29-bf6c-4d54-92db-f242113dc434",
   "metadata": {},
   "outputs": [
    {
     "data": {
      "text/plain": [
       "Counter({0: 2441, 1: 1843, 2: 1998, 3: 820, 4: 1027})"
      ]
     },
     "execution_count": 8,
     "metadata": {},
     "output_type": "execute_result"
    }
   ],
   "source": [
    "from collections import Counter as c\n",
    "c(x_train .labels)"
   ]
  },
  {
   "cell_type": "markdown",
   "id": "2fadf9c4",
   "metadata": {},
   "source": [
    "# Model Building"
   ]
  },
  {
   "cell_type": "markdown",
   "id": "9ae186d3-31ee-4641-9eb9-611e3fcd9910",
   "metadata": {},
   "source": [
    "Team ID : PNT2022TMID12370"
   ]
  },
  {
   "cell_type": "markdown",
   "id": "6e256b59",
   "metadata": {},
   "source": [
    "# Importing The Model Building Libraries"
   ]
  },
  {
   "cell_type": "code",
   "execution_count": 9,
   "id": "64b8eac8",
   "metadata": {},
   "outputs": [],
   "source": [
    "#Used for numerical analysis\n",
    "import numpy as np\n",
    "\n",
    "#Open source used for both ML and DL for computation\n",
    "import tensorflow\n",
    "\n",
    "#It is a plain stack of Layers\n",
    "from tensorflow.keras.models import Sequential\n",
    "\n",
    "#A layer consists of a tensor-in tensor-out computation function\n",
    "from tensorflow.keras import layers\n",
    "\n",
    "#Dense layer is the regular deeply connected neural network layer\n",
    "from tensorflow.keras.layers import Dense,Flatten\n",
    "\n",
    "#Flatten used for flattening the input or change the dimension\n",
    "from tensorflow.keras.layers import Conv2D,MaxPooling2D,Dropout  #Convolutional Layer\n",
    "\n",
    "#MaxPooling2D for down sampling the image\n",
    "from keras.preprocessing.image import ImageDataGenerator"
   ]
  },
  {
   "cell_type": "markdown",
   "id": "b87aae8c",
   "metadata": {},
   "source": [
    "# Initializing The Model"
   ]
  },
  {
   "cell_type": "code",
   "execution_count": 10,
   "id": "aa1f4a65",
   "metadata": {},
   "outputs": [],
   "source": [
    "model=Sequential()"
   ]
  },
  {
   "cell_type": "markdown",
   "id": "54534ba5",
   "metadata": {},
   "source": [
    "# Adding CNN Layers"
   ]
  },
  {
   "cell_type": "code",
   "execution_count": 11,
   "id": "02d141f2",
   "metadata": {},
   "outputs": [],
   "source": [
    "#Initialising the CNN\n",
    "classifier = Sequential()\n",
    "\n",
    "#First convolution layer and pooling\n",
    "classifier.add(Conv2D(32, (3, 3), input_shape=(64, 64, 3),activation='relu'))\n",
    "classifier.add(MaxPooling2D(pool_size=(2, 2)))\n",
    "\n",
    "#Second convolution layer and pooling\n",
    "classifier.add(Conv2D(32, (3, 3),activation='relu'))\n",
    "\n",
    "#input_shape is going to be the pooled feature maps from the previous convolution layer\n",
    "classifier.add(MaxPooling2D(pool_size=(2, 2)))\n",
    "\n",
    "#Flattening the layers\n",
    "classifier.add(Flatten())"
   ]
  },
  {
   "cell_type": "markdown",
   "id": "1012d924",
   "metadata": {},
   "source": [
    "# Adding Dense Layers "
   ]
  },
  {
   "cell_type": "code",
   "execution_count": 12,
   "id": "64331fff-1c94-465d-bbea-516d749301cf",
   "metadata": {},
   "outputs": [],
   "source": [
    "#Adding a fully connected layer\n",
    "model.add(Dense(300,activation='relu'))\n",
    "model.add(Dense(150,activation='relu'))\n",
    "\n",
    "#softmax for more than 2\n",
    "classifier.add(Dense(units=5, activation = 'softmax'))"
   ]
  },
  {
   "cell_type": "code",
   "execution_count": 13,
   "id": "ae58391a",
   "metadata": {},
   "outputs": [
    {
     "name": "stdout",
     "output_type": "stream",
     "text": [
      "Model: \"sequential_1\"\n",
      "_________________________________________________________________\n",
      " Layer (type)                Output Shape              Param #   \n",
      "=================================================================\n",
      " conv2d (Conv2D)             (None, 62, 62, 32)        896       \n",
      "                                                                 \n",
      " max_pooling2d (MaxPooling2D  (None, 31, 31, 32)       0         \n",
      " )                                                               \n",
      "                                                                 \n",
      " conv2d_1 (Conv2D)           (None, 29, 29, 32)        9248      \n",
      "                                                                 \n",
      " max_pooling2d_1 (MaxPooling  (None, 14, 14, 32)       0         \n",
      " 2D)                                                             \n",
      "                                                                 \n",
      " flatten (Flatten)           (None, 6272)              0         \n",
      "                                                                 \n",
      " dense_2 (Dense)             (None, 5)                 31365     \n",
      "                                                                 \n",
      "=================================================================\n",
      "Total params: 41,509\n",
      "Trainable params: 41,509\n",
      "Non-trainable params: 0\n",
      "_________________________________________________________________\n"
     ]
    }
   ],
   "source": [
    "#Summary of the model\n",
    "classifier.summary()"
   ]
  },
  {
   "cell_type": "markdown",
   "id": "b3c41747",
   "metadata": {},
   "source": [
    "# Compiling the Model"
   ]
  },
  {
   "cell_type": "code",
   "execution_count": 14,
   "id": "c5a0e777",
   "metadata": {},
   "outputs": [],
   "source": [
    "#Compiling the CNN\n",
    "#categorical_crossentropy for more than 2\n",
    "classifier.compile(optimizer='adam',loss='sparse_categorical_crossentropy',metrics=['accuracy'])"
   ]
  },
  {
   "cell_type": "code",
   "execution_count": 15,
   "id": "f58060c5",
   "metadata": {},
   "outputs": [
    {
     "data": {
      "text/plain": [
       "1626"
      ]
     },
     "execution_count": 15,
     "metadata": {},
     "output_type": "execute_result"
    }
   ],
   "source": [
    "len(x_train)"
   ]
  },
  {
   "cell_type": "markdown",
   "id": "cbdc28a8",
   "metadata": {},
   "source": [
    "# Train The Model"
   ]
  },
  {
   "cell_type": "code",
   "execution_count": 16,
   "id": "ed7107c7",
   "metadata": {},
   "outputs": [
    {
     "name": "stdout",
     "output_type": "stream",
     "text": [
      "Epoch 1/25\n",
      "1626/1626 [==============================] - 145s 88ms/step - loss: 0.6961 - accuracy: 0.7391 - val_loss: 0.9431 - val_accuracy: 0.7142\n",
      "Epoch 2/25\n",
      "1626/1626 [==============================] - 146s 90ms/step - loss: 0.5350 - accuracy: 0.8010 - val_loss: 1.4117 - val_accuracy: 0.5349\n",
      "Epoch 3/25\n",
      "1626/1626 [==============================] - 146s 90ms/step - loss: 0.4871 - accuracy: 0.8225 - val_loss: 0.8757 - val_accuracy: 0.7123\n",
      "Epoch 4/25\n",
      "1626/1626 [==============================] - 146s 90ms/step - loss: 0.4716 - accuracy: 0.8199 - val_loss: 0.8088 - val_accuracy: 0.7151\n",
      "Epoch 5/25\n",
      "1626/1626 [==============================] - 145s 89ms/step - loss: 0.4392 - accuracy: 0.8336 - val_loss: 0.9195 - val_accuracy: 0.6717\n",
      "Epoch 6/25\n",
      "1626/1626 [==============================] - 145s 89ms/step - loss: 0.4139 - accuracy: 0.8481 - val_loss: 0.9522 - val_accuracy: 0.6547\n",
      "Epoch 7/25\n",
      "1626/1626 [==============================] - 148s 91ms/step - loss: 0.3950 - accuracy: 0.8527 - val_loss: 0.7809 - val_accuracy: 0.7028\n",
      "Epoch 8/25\n",
      "1626/1626 [==============================] - 148s 91ms/step - loss: 0.3816 - accuracy: 0.8563 - val_loss: 0.7916 - val_accuracy: 0.7387\n",
      "Epoch 9/25\n",
      "1626/1626 [==============================] - 146s 90ms/step - loss: 0.3698 - accuracy: 0.8609 - val_loss: 0.7857 - val_accuracy: 0.7585\n",
      "Epoch 10/25\n",
      "1626/1626 [==============================] - 150s 92ms/step - loss: 0.3582 - accuracy: 0.8651 - val_loss: 0.7207 - val_accuracy: 0.7538\n",
      "Epoch 11/25\n",
      "1626/1626 [==============================] - 144s 89ms/step - loss: 0.3399 - accuracy: 0.8734 - val_loss: 0.8246 - val_accuracy: 0.7255\n",
      "Epoch 12/25\n",
      "1626/1626 [==============================] - 150s 92ms/step - loss: 0.3213 - accuracy: 0.8806 - val_loss: 0.9724 - val_accuracy: 0.7066\n",
      "Epoch 13/25\n",
      "1626/1626 [==============================] - 151s 93ms/step - loss: 0.3261 - accuracy: 0.8767 - val_loss: 1.6564 - val_accuracy: 0.6377\n",
      "Epoch 14/25\n",
      "1626/1626 [==============================] - 147s 90ms/step - loss: 0.3038 - accuracy: 0.8868 - val_loss: 0.6852 - val_accuracy: 0.7783\n",
      "Epoch 15/25\n",
      "1626/1626 [==============================] - 147s 91ms/step - loss: 0.3008 - accuracy: 0.8861 - val_loss: 1.0276 - val_accuracy: 0.7094\n",
      "Epoch 16/25\n",
      "1626/1626 [==============================] - 151s 93ms/step - loss: 0.2914 - accuracy: 0.8909 - val_loss: 0.7751 - val_accuracy: 0.7755\n",
      "Epoch 17/25\n",
      "1626/1626 [==============================] - 164s 101ms/step - loss: 0.2816 - accuracy: 0.8943 - val_loss: 0.9204 - val_accuracy: 0.7255\n",
      "Epoch 18/25\n",
      "1626/1626 [==============================] - 140s 86ms/step - loss: 0.2716 - accuracy: 0.8994 - val_loss: 0.6121 - val_accuracy: 0.8066\n",
      "Epoch 19/25\n",
      "1626/1626 [==============================] - 132s 81ms/step - loss: 0.2768 - accuracy: 0.8970 - val_loss: 0.7403 - val_accuracy: 0.7745\n",
      "Epoch 20/25\n",
      "1626/1626 [==============================] - 134s 82ms/step - loss: 0.2727 - accuracy: 0.8984 - val_loss: 0.5010 - val_accuracy: 0.8377\n",
      "Epoch 21/25\n",
      "1626/1626 [==============================] - 133s 82ms/step - loss: 0.2608 - accuracy: 0.9029 - val_loss: 0.9934 - val_accuracy: 0.7500\n",
      "Epoch 22/25\n",
      "1626/1626 [==============================] - 134s 83ms/step - loss: 0.2510 - accuracy: 0.9050 - val_loss: 1.0545 - val_accuracy: 0.7387\n",
      "Epoch 23/25\n",
      "1626/1626 [==============================] - 133s 82ms/step - loss: 0.2372 - accuracy: 0.9116 - val_loss: 0.8531 - val_accuracy: 0.7840\n",
      "Epoch 24/25\n",
      "1626/1626 [==============================] - 133s 82ms/step - loss: 0.2326 - accuracy: 0.9128 - val_loss: 0.5817 - val_accuracy: 0.8255\n",
      "Epoch 25/25\n",
      "1626/1626 [==============================] - 136s 84ms/step - loss: 0.2371 - accuracy: 0.9138 - val_loss: 0.7912 - val_accuracy: 0.7651\n"
     ]
    },
    {
     "data": {
      "text/plain": [
       "<keras.callbacks.History at 0x2101813b4f0>"
      ]
     },
     "execution_count": 16,
     "metadata": {},
     "output_type": "execute_result"
    }
   ],
   "source": [
    "classifier.fit(\n",
    "    x_train,steps_per_epoch = len(x_train),\n",
    "    epochs=25, validation_data=x_test,\n",
    "    validation_steps = len(x_test)) #Number of images in test set"
   ]
  },
  {
   "cell_type": "markdown",
   "id": "4ddd5c9a",
   "metadata": {},
   "source": [
    "# Save The Model"
   ]
  },
  {
   "cell_type": "code",
   "execution_count": 17,
   "id": "48c16db2",
   "metadata": {},
   "outputs": [],
   "source": [
    "#Saving the model\n",
    "classifier.save('Fruit_Nutrition_Fact.h5')"
   ]
  },
  {
   "cell_type": "markdown",
   "id": "7fd5c239",
   "metadata": {},
   "source": [
    "# Test The Model"
   ]
  },
  {
   "cell_type": "code",
   "execution_count": 21,
   "id": "9082ae26",
   "metadata": {},
   "outputs": [],
   "source": [
    "from tensorflow.keras.models import load_model\n",
    "from tensorflow.keras.preprocessing import image\n",
    "\n",
    "#Loading the model for testing\n",
    "model = load_model('Fruit_Nutrition_Fact.h5')"
   ]
  },
  {
   "cell_type": "code",
   "execution_count": 22,
   "id": "351c7f3a",
   "metadata": {},
   "outputs": [
    {
     "name": "stdout",
     "output_type": "stream",
     "text": [
      "1/1 [==============================] - 0s 301ms/step\n"
     ]
    },
    {
     "data": {
      "text/plain": [
       "'ORANGE'"
      ]
     },
     "execution_count": 22,
     "metadata": {},
     "output_type": "execute_result"
    }
   ],
   "source": [
    "img=image.load_img(r\"D:\\Nutrition Analysis Using Image Classification\\O1.jpg\",grayscale=False,target_size=(64,64))\n",
    "\n",
    "#Image to array\n",
    "x = image.img_to_array(img)\n",
    "\n",
    "#Changing the Shape\n",
    "x = np.expand_dims(x,axis = 0)\n",
    "\n",
    "#Predicting the classes\n",
    "y=np.argmax(model.predict(x),axis=1)\n",
    "index = ['APPLES','BANANA','ORANGE','PINEAPPLE','WATERMELON']\n",
    "index[y[0]]\n"
   ]
  },
  {
   "cell_type": "code",
   "execution_count": null,
   "id": "e0c68463",
   "metadata": {},
   "outputs": [],
   "source": []
  }
 ],
 "metadata": {
  "kernelspec": {
   "display_name": "Python 3 (ipykernel)",
   "language": "python",
   "name": "python3"
  },
  "language_info": {
   "codemirror_mode": {
    "name": "ipython",
    "version": 3
   },
   "file_extension": ".py",
   "mimetype": "text/x-python",
   "name": "python",
   "nbconvert_exporter": "python",
   "pygments_lexer": "ipython3",
   "version": "3.9.13"
  }
 },
 "nbformat": 4,
 "nbformat_minor": 5
}
