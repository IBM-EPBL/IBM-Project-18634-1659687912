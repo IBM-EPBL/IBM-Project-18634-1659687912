{
 "cells": [
  {
   "cell_type": "markdown",
   "id": "a0773597-2d14-4466-8900-c500a691d326",
   "metadata": {},
   "source": [
    "# Image Preprocessing"
   ]
  },
  {
   "cell_type": "markdown",
   "id": "50f34b55-c69c-437c-a268-f3b691fa0700",
   "metadata": {},
   "source": [
    "Team ID : PNT2022TMID12370"
   ]
  },
  {
   "cell_type": "markdown",
   "id": "f3ebafb4-f6a7-4cdc-b464-67399c78b5e7",
   "metadata": {
    "tags": []
   },
   "source": [
    "#  Import the library"
   ]
  },
  {
   "cell_type": "code",
   "execution_count": 9,
   "id": "58e0b25e-2cf7-476f-ba90-47717f71aef2",
   "metadata": {},
   "outputs": [],
   "source": [
    "from tensorflow.keras.preprocessing.image import ImageDataGenerator"
   ]
  },
  {
   "cell_type": "markdown",
   "id": "8909f591-9d74-4c14-a82c-48d46ffff124",
   "metadata": {
    "tags": []
   },
   "source": [
    "# Configure ImageDataGenerator Class "
   ]
  },
  {
   "cell_type": "code",
   "execution_count": 10,
   "id": "3ed035e8-3ee9-433d-a86e-2682abcd942f",
   "metadata": {},
   "outputs": [],
   "source": [
    "#Setting parameter for Image Data augmentation to the training data\n",
    "train_datagen = ImageDataGenerator(rescale=1./255,shear_range=0.2,zoom_range=0.2,horizontal_flip=True)\n",
    "\n",
    "#Image Data augmentation to the testing data\n",
    "test_datagen = ImageDataGenerator(rescale=1./255)"
   ]
  },
  {
   "cell_type": "markdown",
   "id": "5c150ce4-c1a8-486f-b746-9be186cd59bd",
   "metadata": {},
   "source": [
    "# Apply Image DataGenerator Functionality To Trainset And Testset "
   ]
  },
  {
   "cell_type": "code",
   "execution_count": 16,
   "id": "837e956e-fd14-4773-a37c-05ca55c8860e",
   "metadata": {},
   "outputs": [
    {
     "name": "stdout",
     "output_type": "stream",
     "text": [
      "Found 8129 images belonging to 5 classes.\n",
      "Found 1060 images belonging to 5 classes.\n"
     ]
    }
   ],
   "source": [
    "#Performing data augmentation to train data\n",
    "x_train = train_datagen.flow_from_directory(r'D:\\Nutrition Analysis Using Image Classification\\Dataset\\TRAIN_SET',\n",
    "                                            target_size=(64, 64),batch_size=5,color_mode='rgb',class_mode='sparse')\n",
    "\n",
    "#Performing data augmentation to test data\n",
    "x_test = test_datagen.flow_from_directory(r'D:\\Nutrition Analysis Using Image Classification\\Dataset\\TEST_SET',\n",
    "                                          target_size=(64, 64),batch_size=5,color_mode='rgb',class_mode='sparse')"
   ]
  },
  {
   "cell_type": "code",
   "execution_count": 17,
   "id": "fb552094-20f7-486d-bd87-d67df072beb4",
   "metadata": {},
   "outputs": [
    {
     "name": "stdout",
     "output_type": "stream",
     "text": [
      "{'APPLES': 0, 'BANANA': 1, 'ORANGE': 2, 'PINEAPPLE': 3, 'WATERMELON': 4}\n"
     ]
    }
   ],
   "source": [
    "#Checking the number of classes \n",
    "print(x_train.class_indices)"
   ]
  },
  {
   "cell_type": "code",
   "execution_count": 18,
   "id": "55223f93-49a9-47c8-9c80-91eda2a35952",
   "metadata": {},
   "outputs": [
    {
     "name": "stdout",
     "output_type": "stream",
     "text": [
      "{'APPLES': 0, 'BANANA': 1, 'ORANGE': 2, 'PINEAPPLE': 3, 'WATERMELON': 4}\n"
     ]
    }
   ],
   "source": [
    "#Checking the number of classes \n",
    "print(x_test.class_indices)"
   ]
  },
  {
   "cell_type": "code",
   "execution_count": 19,
   "id": "f6aea819-822a-4ed9-ba1a-7e2469a307b1",
   "metadata": {},
   "outputs": [
    {
     "data": {
      "text/plain": [
       "Counter({0: 2441, 1: 1843, 2: 1998, 3: 820, 4: 1027})"
      ]
     },
     "execution_count": 19,
     "metadata": {},
     "output_type": "execute_result"
    }
   ],
   "source": [
    "from collections import Counter as c\n",
    "c(x_train .labels)"
   ]
  }
 ],
 "metadata": {
  "kernelspec": {
   "display_name": "Python 3 (ipykernel)",
   "language": "python",
   "name": "python3"
  },
  "language_info": {
   "codemirror_mode": {
    "name": "ipython",
    "version": 3
   },
   "file_extension": ".py",
   "mimetype": "text/x-python",
   "name": "python",
   "nbconvert_exporter": "python",
   "pygments_lexer": "ipython3",
   "version": "3.9.13"
  }
 },
 "nbformat": 4,
 "nbformat_minor": 5
}
